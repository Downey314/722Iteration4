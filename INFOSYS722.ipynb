{
 "cells": [
  {
   "cell_type": "code",
   "execution_count": 2,
   "metadata": {},
   "outputs": [],
   "source": [
    "import findspark\n",
    "findspark.init('/home/ubuntu/spark-2.1.1-bin-hadoop2.7')\n",
    "import pyspark\n",
    "from pyspark.sql import SparkSession\n",
    "spark = SparkSession.builder.appName(\"Infosys722_Iteration4\").getOrCreate()"
   ]
  },
  {
   "cell_type": "code",
   "execution_count": 5,
   "metadata": {},
   "outputs": [
    {
     "name": "stdout",
     "output_type": "stream",
     "text": [
      "+---+-----+------+------+------+-----+-----+-----------+----+-----+----+------+------+\n",
      "| id|  age|gender|height|weight|ap_hi|ap_lo|cholesterol|gluc|smoke|alco|active|cardio|\n",
      "+---+-----+------+------+------+-----+-----+-----------+----+-----+----+------+------+\n",
      "|  0|18393|     2|   168|    62|  110|   80|          1|   1|    0|   0|     1|     0|\n",
      "|  1|20228|     1|   156|    85|  140|   90|          3|   1|    0|   0|     1|     1|\n",
      "|  2|18857|     1|   165|    64|  130|   70|          3|   1|    0|   0|     0|     1|\n",
      "|  3|17623|     2|   169|    82|  150|  100|          1|   1|    0|   0|     1|     1|\n",
      "|  4|17474|     1|   156|    56|  100|   60|          1|   1|    0|   0|     0|     0|\n",
      "|  8|21914|     1|   151|    67|  120|   80|          2|   2|    0|   0|     0|     0|\n",
      "|  9|22113|     1|   157|    93|  130|   80|          3|   1|    0|   0|     1|     0|\n",
      "| 12|22584|     2|   178|    95|  130|   90|          3|   3|    0|   0|     1|     1|\n",
      "| 13|17668|     1|   158|    71|  110|   70|          1|   1|    0|   0|     1|     0|\n",
      "| 14|19834|     1|   164|    68|  110|   60|          1|   1|    0|   0|     0|     0|\n",
      "| 15|22530|     1|   169|    80|  120|   80|          1|   1|    0|   0|     1|     0|\n",
      "| 16|18815|     2|   173|    60|  120|   80|          1|   1|    0|   0|     1|     0|\n",
      "| 18|14791|     2|   165|    60|  120|   80|          1|   1|    0|   0|     0|     0|\n",
      "| 21|19809|     1|   158|    78|  110|   70|          1|   1|    0|   0|     1|     0|\n",
      "| 23|14532|     2|   181|    95|  130|   90|          1|   1|    1|   1|     1|     0|\n",
      "| 24|16782|     2|   172|   112|  120|   80|          1|   1|    0|   0|     0|     1|\n",
      "| 25|21296|     1|   170|    75|  130|   70|          1|   1|    0|   0|     0|     0|\n",
      "| 27|16747|     1|   158|    52|  110|   70|          1|   3|    0|   0|     1|     0|\n",
      "| 28|17482|     1|   154|    68|  100|   70|          1|   1|    0|   0|     0|     0|\n",
      "| 29|21755|     2|   162|    56|  120|   70|          1|   1|    1|   0|     1|     0|\n",
      "+---+-----+------+------+------+-----+-----+-----------+----+-----+----+------+------+\n",
      "only showing top 20 rows\n",
      "\n"
     ]
    }
   ],
   "source": [
    "#Import the data into the system\n",
    "#print(\"Hello World\")\n",
    "data = spark.read.load(\"./cardio_train.csv\", format = \"csv\", header = \"true\")\n",
    "data\n",
    "data.columns\n",
    "data.show()"
   ]
  },
  {
   "cell_type": "code",
   "execution_count": null,
   "metadata": {},
   "outputs": [],
   "source": []
  }
 ],
 "metadata": {
  "kernelspec": {
   "display_name": "Python 3",
   "language": "python",
   "name": "python3"
  },
  "language_info": {
   "codemirror_mode": {
    "name": "ipython",
    "version": 3
   },
   "file_extension": ".py",
   "mimetype": "text/x-python",
   "name": "python",
   "nbconvert_exporter": "python",
   "pygments_lexer": "ipython3",
   "version": "3.5.2"
  }
 },
 "nbformat": 4,
 "nbformat_minor": 2
}
